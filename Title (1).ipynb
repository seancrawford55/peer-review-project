{
 "cells": [
  {
   "cell_type": "markdown",
   "id": "f54dfd63-e100-4f60-bd47-fa5e1ea4e9af",
   "metadata": {},
   "source": [
    "First page of the Data Science Tools and Ecosystem notebook"
   ]
  }
 ],
 "metadata": {
  "kernelspec": {
   "display_name": "Python",
   "language": "python",
   "name": "conda-env-python-py"
  },
  "language_info": {
   "codemirror_mode": {
    "name": "ipython",
    "version": 3
   },
   "file_extension": ".py",
   "mimetype": "text/x-python",
   "name": "python",
   "nbconvert_exporter": "python",
   "pygments_lexer": "ipython3",
   "version": "3.7.12"
  }
 },
 "nbformat": 4,
 "nbformat_minor": 5
}
